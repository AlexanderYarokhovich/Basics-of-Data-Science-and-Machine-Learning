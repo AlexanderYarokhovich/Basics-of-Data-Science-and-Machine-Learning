{
 "cells": [
  {
   "cell_type": "markdown",
   "id": "bcce3063-89ca-43f5-bc8b-3249be09458a",
   "metadata": {},
   "source": [
    "## 1. Обучите простую рекуррентную нейронную сеть(Без GRU/LSTM, без внимания) решить задачу дешифровки шифра Цезаря:"
   ]
  },
  {
   "cell_type": "markdown",
   "id": "70cf90b6-379d-4c0a-b0f5-3664d0967e9c",
   "metadata": {},
   "source": [
    "### 1.1: Подготовка данных — реализация шифра Цезаря и датасета\n",
    "\n",
    "В этом пункте мы реализуем шифр Цезаря и создаём датасет для обучения модели.\n",
    "\n",
    "- Сначала определяем английский алфавит (заглавные буквы) и создаем два словаря: \n",
    "  - `char2idx` — переводит буквы в индексы,\n",
    "  - `idx2char` — переводит индексы обратно в буквы.\n",
    "- Далее реализуем функцию `caesar_cipher`, которая сдвигает каждую букву на заданное число `shift`.\n",
    "- Класс `CaesarDataset` создает пары строк (зашифрованная, оригинальная), каждая длиной `seq_len`, и преобразует их в тензоры индексов.\n",
    "- Этот датасет будет использоваться для обучения модели: вход — зашифрованный текст, цель — исходный (дешифрованный) текст.\n"
   ]
  },
  {
   "cell_type": "code",
   "execution_count": 1,
   "id": "0f2c2f6f-40fe-4e2c-ab2d-f09ad08a0e52",
   "metadata": {},
   "outputs": [],
   "source": [
    "import string\n",
    "import random\n",
    "import torch\n",
    "from torch.utils.data import Dataset, DataLoader\n",
    "import torch.nn as nn\n",
    "\n",
    "# Создаем алфавит и словари\n",
    "alphabet = string.ascii_uppercase  # 'A' to 'Z'\n",
    "char2idx = {ch: i for i, ch in enumerate(alphabet)}\n",
    "idx2char = {i: ch for ch, i in char2idx.items()}\n",
    "vocab_size = len(alphabet)\n",
    "\n",
    "def caesar_cipher(text, shift):\n",
    "    result = \"\"\n",
    "    for ch in text.upper():\n",
    "        if ch in char2idx:\n",
    "            shifted = (char2idx[ch] + shift) % vocab_size\n",
    "            result += idx2char[shifted]\n",
    "        else:\n",
    "            result += ch\n",
    "    return result\n",
    "\n"
   ]
  },
  {
   "cell_type": "code",
   "execution_count": 2,
   "id": "929ce6ef-a760-4633-a572-14ab6ca761d4",
   "metadata": {},
   "outputs": [],
   "source": [
    "class CaesarDataset(Dataset):\n",
    "    def __init__(self, num_samples=1000, seq_len=10, shift=2):\n",
    "        self.data = []\n",
    "        for _ in range(num_samples):\n",
    "            plain = ''.join(random.choices(alphabet, k=seq_len))\n",
    "            cipher = caesar_cipher(plain, shift)\n",
    "            self.data.append((cipher, plain))\n",
    "\n",
    "    def __len__(self):\n",
    "        return len(self.data)\n",
    "\n",
    "    def __getitem__(self, idx):\n",
    "        cipher, plain = self.data[idx]\n",
    "        x = torch.tensor([char2idx[c] for c in cipher], dtype=torch.long)\n",
    "        y = torch.tensor([char2idx[c] for c in plain], dtype=torch.long)\n",
    "        return x, y\n"
   ]
  },
  {
   "cell_type": "markdown",
   "id": "ad63a35d-374d-4d04-9a14-60bba87bc121",
   "metadata": {},
   "source": [
    "### 1.2: Архитектура нейросети — простая RNN\n",
    "\n",
    "Здесь мы определяем простую рекуррентную нейронную сеть (RNN) без GRU, LSTM или механизмов внимания.\n",
    "\n",
    "- Используем слой `Embedding`, чтобы преобразовать индексы символов во вложения фиксированной размерности (`embedding_dim`).\n",
    "- Далее применяем RNN (`torch.nn.RNN`), чтобы обрабатывать последовательности символов, извлекая временные зависимости.\n",
    "- Наконец, линейный слой `Linear` преобразует выход RNN на каждом шаге в логиты размером `vocab_size`, чтобы предсказать каждый символ по распределению вероятностей.\n",
    "\n",
    "Модель обучается сопоставлять каждую зашифрованную букву с её исходной формой.\n"
   ]
  },
  {
   "cell_type": "code",
   "execution_count": 3,
   "id": "eccb9d88-1616-463f-80f1-474f3d5d1b70",
   "metadata": {},
   "outputs": [],
   "source": [
    "class CaesarRNN(nn.Module):\n",
    "    def __init__(self, vocab_size, embedding_dim=16, hidden_dim=32):\n",
    "        super().__init__()\n",
    "        self.embedding = nn.Embedding(vocab_size, embedding_dim)\n",
    "        self.rnn = nn.RNN(embedding_dim, hidden_dim, batch_first=True)\n",
    "        self.fc = nn.Linear(hidden_dim, vocab_size)\n",
    "\n",
    "    def forward(self, x):\n",
    "        x = self.embedding(x)              # (batch, seq_len, emb)\n",
    "        out, _ = self.rnn(x)               # (batch, seq_len, hidden)\n",
    "        out = self.fc(out)                 # (batch, seq_len, vocab_size)\n",
    "        return out\n"
   ]
  },
  {
   "cell_type": "markdown",
   "id": "c3a5c4c8-fb8d-42d2-a883-4dde85cbdf47",
   "metadata": {},
   "source": [
    "### 1.3: Обучение модели\n",
    "\n",
    "Здесь мы обучаем нашу RNN-модель на задаче дешифровки шифра Цезаря.\n",
    "\n",
    "- Создаем обучающий датасет из 2000 примеров (можно увеличить для лучшего результата).\n",
    "- Загружаем данные в `DataLoader` для пакетной обработки.\n",
    "- Используем функцию потерь `CrossEntropyLoss`, которая сравнивает логиты и истинные индексы символов.\n",
    "- Оптимизатор `Adam` обновляет веса модели.\n",
    "- В каждом эпохе модель получает зашифрованные последовательности и учится дешифровывать их, минимизируя ошибку.\n",
    "\n",
    "После завершения обучения модель способна преобразовывать зашифрованные фразы обратно в исходные.\n"
   ]
  },
  {
   "cell_type": "code",
   "execution_count": 4,
   "id": "43bdff0d-5e43-42a0-8a64-37b8729bbe83",
   "metadata": {},
   "outputs": [
    {
     "name": "stdout",
     "output_type": "stream",
     "text": [
      "Epoch 1, Loss: 43.6968\n",
      "Epoch 2, Loss: 0.4244\n",
      "Epoch 3, Loss: 0.2229\n",
      "Epoch 4, Loss: 0.1428\n",
      "Epoch 5, Loss: 0.1003\n",
      "Epoch 6, Loss: 0.0749\n",
      "Epoch 7, Loss: 0.0583\n",
      "Epoch 8, Loss: 0.0469\n",
      "Epoch 9, Loss: 0.0387\n",
      "Epoch 10, Loss: 0.0325\n"
     ]
    }
   ],
   "source": [
    "def train_model(shift=2, num_epochs=10):\n",
    "    dataset = CaesarDataset(num_samples=2000, seq_len=10, shift=shift)\n",
    "    loader = DataLoader(dataset, batch_size=32, shuffle=True)\n",
    "\n",
    "    model = CaesarRNN(vocab_size)\n",
    "    criterion = nn.CrossEntropyLoss()\n",
    "    optimizer = torch.optim.Adam(model.parameters(), lr=0.01)\n",
    "\n",
    "    for epoch in range(num_epochs):\n",
    "        total_loss = 0\n",
    "        for x, y in loader:\n",
    "            output = model(x)  # (batch, seq_len, vocab)\n",
    "            loss = criterion(output.view(-1, vocab_size), y.view(-1))\n",
    "\n",
    "            optimizer.zero_grad()\n",
    "            loss.backward()\n",
    "            optimizer.step()\n",
    "            total_loss += loss.item()\n",
    "\n",
    "        print(f\"Epoch {epoch+1}, Loss: {total_loss:.4f}\")\n",
    "    \n",
    "    return model\n",
    "\n",
    "model = train_model(shift=2)\n"
   ]
  },
  {
   "cell_type": "markdown",
   "id": "064d4e88-18df-44fa-ac33-e5ab6e82ebe6",
   "metadata": {},
   "source": [
    "### 1.4: Проверка модели\n",
    "\n",
    "Этот пункт предназначен для оценки качества обученной модели.\n",
    "\n",
    "- Мы вручную шифруем слово при помощи шифра Цезаря.\n",
    "- Далее подаем зашифрованный текст на вход модели.\n",
    "- Модель предсказывает вероятности для каждого символа, и мы выбираем наиболее вероятный символ на каждом шаге.\n",
    "- Затем индексы переводятся обратно в символы.\n",
    "\n",
    "Таким образом, мы можем проверить, насколько хорошо модель научилась восстанавливать исходный текст по зашифрованному.\n"
   ]
  },
  {
   "cell_type": "code",
   "execution_count": 5,
   "id": "6faf2f5f-bea2-40c9-aa3a-7b9b69db068e",
   "metadata": {},
   "outputs": [
    {
     "name": "stdout",
     "output_type": "stream",
     "text": [
      "Encrypted: JGNNQYQTF\n",
      "Decoded by model: HELLOWORD\n"
     ]
    }
   ],
   "source": [
    "def decode_prediction(model, cipher_text):\n",
    "    model.eval()\n",
    "    with torch.no_grad():\n",
    "        x = torch.tensor([[char2idx[c] for c in cipher_text]], dtype=torch.long)\n",
    "        logits = model(x)\n",
    "        pred = torch.argmax(logits, dim=-1).squeeze(0)\n",
    "        decoded = ''.join([idx2char[i.item()] for i in pred])\n",
    "    return decoded\n",
    "\n",
    "# Пример дешифровки\n",
    "cipher = caesar_cipher(\"HELLOWORD\", shift=2)\n",
    "print(f\"Encrypted: {cipher}\")\n",
    "print(f\"Decoded by model: {decode_prediction(model, cipher)}\")\n"
   ]
  },
  {
   "cell_type": "markdown",
   "id": "870a1233-6fcc-4464-ac58-3bc4ac478fbb",
   "metadata": {},
   "source": [
    "## 2. Сгенерировать последовательности которые состоят из цифр (от 0 до 9) и задаются особым образом:"
   ]
  },
  {
   "cell_type": "markdown",
   "id": "229020b3-4614-4c2c-a12c-589e89a270e5",
   "metadata": {},
   "source": [
    "### 2.1 Генерация последовательностей"
   ]
  },
  {
   "cell_type": "code",
   "execution_count": 6,
   "id": "4bf686f5-b568-446a-9369-fb25196c37a0",
   "metadata": {},
   "outputs": [
    {
     "name": "stdout",
     "output_type": "stream",
     "text": [
      "x = [5, 6, 4, 7, 6, 9, 4, 3, 8, 8]\n",
      "y = [0, 1, 9, 2, 1, 4, 9, 8, 3, 3]\n"
     ]
    }
   ],
   "source": [
    "import torch\n",
    "import random\n",
    "from torch.utils.data import Dataset, DataLoader\n",
    "\n",
    "class DigitSequenceDatasetV2(Dataset):\n",
    "    def __init__(self, num_samples=1000, seq_len=10):\n",
    "        self.data = []\n",
    "        for _ in range(num_samples):\n",
    "            x = [random.randint(0, 9) for _ in range(seq_len)]\n",
    "            y = []\n",
    "            for i in range(seq_len):\n",
    "                val = x[i] + x[0]  # x0 добавляется к каждому xi\n",
    "                if val >= 10:\n",
    "                    val -= 10\n",
    "                y.append(val)\n",
    "            self.data.append((x, y))\n",
    "\n",
    "    def __len__(self):\n",
    "        return len(self.data)\n",
    "\n",
    "    def __getitem__(self, idx):\n",
    "        x, y = self.data[idx]\n",
    "        return torch.tensor(x, dtype=torch.long), torch.tensor(y, dtype=torch.long)\n",
    "\n",
    "# Пример\n",
    "dataset = DigitSequenceDatasetV2()\n",
    "x, y = dataset[0]\n",
    "print(\"x =\", x.tolist())\n",
    "print(\"y =\", y.tolist())\n"
   ]
  },
  {
   "cell_type": "markdown",
   "id": "adb099d2-b8d4-4cd6-8cf9-dc39f5d6b858",
   "metadata": {},
   "source": [
    "### 2.2 Архитектура нейросети — RNN, LSTM, GRU"
   ]
  },
  {
   "cell_type": "code",
   "execution_count": 7,
   "id": "1ef3055e-2ce7-4a44-a461-ab192714f9d8",
   "metadata": {},
   "outputs": [],
   "source": [
    "import torch.nn as nn\n",
    "\n",
    "class BaseRNN(nn.Module):\n",
    "    def __init__(self, rnn_type, vocab_size=10, embedding_dim=16, hidden_dim=32):\n",
    "        super().__init__()\n",
    "        self.embedding = nn.Embedding(vocab_size, embedding_dim)\n",
    "        \n",
    "        if rnn_type == 'RNN':\n",
    "            self.rnn = nn.RNN(embedding_dim, hidden_dim, batch_first=True)\n",
    "        elif rnn_type == 'LSTM':\n",
    "            self.rnn = nn.LSTM(embedding_dim, hidden_dim, batch_first=True)\n",
    "        elif rnn_type == 'GRU':\n",
    "            self.rnn = nn.GRU(embedding_dim, hidden_dim, batch_first=True)\n",
    "        else:\n",
    "            raise ValueError(\"Unknown RNN type: choose from 'RNN', 'LSTM', 'GRU'\")\n",
    "\n",
    "        self.fc = nn.Linear(hidden_dim, vocab_size)\n",
    "        self.rnn_type = rnn_type\n",
    "\n",
    "    def forward(self, x):\n",
    "        x = self.embedding(x)  # (batch, seq_len, embedding_dim)\n",
    "        \n",
    "        if self.rnn_type == 'LSTM':\n",
    "            out, (h_n, c_n) = self.rnn(x)\n",
    "        else:\n",
    "            out, h_n = self.rnn(x)\n",
    "\n",
    "        out = self.fc(out)  # (batch, seq_len, vocab_size)\n",
    "        return out\n"
   ]
  },
  {
   "cell_type": "markdown",
   "id": "7a8a7c2d-f81a-45b2-8b8e-222221dc7d00",
   "metadata": {},
   "source": [
    "### 2.3 Обучение трёх моделей на одном датасете"
   ]
  },
  {
   "cell_type": "code",
   "execution_count": 8,
   "id": "9067dc06-4084-4a2b-8279-8f60d5aeb735",
   "metadata": {},
   "outputs": [],
   "source": [
    "# Для хранения истории лосса\n",
    "loss_history = {\n",
    "    \"RNN\": [],\n",
    "    \"LSTM\": [],\n",
    "    \"GRU\": []\n",
    "}\n",
    "def train(model, dataset, model_name, num_epochs=10, batch_size=32, lr=0.01):\n",
    "    loader = DataLoader(dataset, batch_size=batch_size, shuffle=True)\n",
    "    criterion = nn.CrossEntropyLoss()\n",
    "    optimizer = torch.optim.Adam(model.parameters(), lr=lr)\n",
    "\n",
    "    model.train()\n",
    "    for epoch in range(num_epochs):\n",
    "        total_loss = 0\n",
    "        for x, y in loader:\n",
    "            out = model(x)  # (batch, seq_len, vocab_size)\n",
    "            loss = criterion(out.view(-1, 10), y.view(-1))  # 10 классов (0–9)\n",
    "\n",
    "            optimizer.zero_grad()\n",
    "            loss.backward()\n",
    "            optimizer.step()\n",
    "            total_loss += loss.item()\n",
    "            loss_history[model_name].append(total_loss)\n",
    "        \n",
    "        print(f\"Epoch {epoch+1}, Loss: {total_loss:.4f}\")\n",
    "    \n",
    "    return model\n"
   ]
  },
  {
   "cell_type": "code",
   "execution_count": 9,
   "id": "d6491921-a8e2-4c14-b9e2-2bf34671b0ad",
   "metadata": {},
   "outputs": [
    {
     "name": "stdout",
     "output_type": "stream",
     "text": [
      "\n",
      "🧠 Обучение RNN:\n",
      "Epoch 1, Loss: 140.5110\n",
      "Epoch 2, Loss: 131.4003\n",
      "Epoch 3, Loss: 120.6521\n",
      "Epoch 4, Loss: 99.3405\n",
      "Epoch 5, Loss: 69.6201\n",
      "Epoch 6, Loss: 60.6772\n",
      "Epoch 7, Loss: 58.6028\n",
      "Epoch 8, Loss: 56.4093\n",
      "Epoch 9, Loss: 54.7440\n",
      "Epoch 10, Loss: 54.4981\n",
      "\n",
      "🧠 Обучение LSTM:\n",
      "Epoch 1, Loss: 141.0982\n",
      "Epoch 2, Loss: 89.6188\n",
      "Epoch 3, Loss: 34.0360\n",
      "Epoch 4, Loss: 14.4089\n",
      "Epoch 5, Loss: 4.8283\n",
      "Epoch 6, Loss: 2.1309\n",
      "Epoch 7, Loss: 1.2611\n",
      "Epoch 8, Loss: 0.8949\n",
      "Epoch 9, Loss: 0.6789\n",
      "Epoch 10, Loss: 0.5390\n",
      "\n",
      "🧠 Обучение GRU:\n",
      "Epoch 1, Loss: 141.0870\n",
      "Epoch 2, Loss: 95.9396\n",
      "Epoch 3, Loss: 46.7071\n",
      "Epoch 4, Loss: 41.3704\n",
      "Epoch 5, Loss: 36.8939\n",
      "Epoch 6, Loss: 25.2211\n",
      "Epoch 7, Loss: 12.7998\n",
      "Epoch 8, Loss: 6.1494\n",
      "Epoch 9, Loss: 3.4889\n",
      "Epoch 10, Loss: 2.3163\n"
     ]
    }
   ],
   "source": [
    "# Один общий датасет\n",
    "dataset = DigitSequenceDatasetV2(num_samples=2000, seq_len=10)\n",
    "\n",
    "# Обучаем RNN\n",
    "print(\"\\n🧠 Обучение RNN:\")\n",
    "rnn_model = BaseRNN('RNN')\n",
    "rnn_model = train(rnn_model, dataset, model_name='RNN')\n",
    "\n",
    "# Обучаем LSTM\n",
    "print(\"\\n🧠 Обучение LSTM:\")\n",
    "lstm_model = BaseRNN('LSTM')\n",
    "lstm_model = train(lstm_model, dataset, model_name='LSTM')\n",
    "\n",
    "# Обучаем GRU\n",
    "print(\"\\n🧠 Обучение GRU:\")\n",
    "gru_model = BaseRNN('GRU')\n",
    "gru_model = train(gru_model, dataset, model_name='GRU')\n"
   ]
  },
  {
   "cell_type": "code",
   "execution_count": null,
   "id": "2e9be83c-469a-4d51-b9e7-37d690b32a75",
   "metadata": {},
   "outputs": [],
   "source": []
  },
  {
   "cell_type": "code",
   "execution_count": 10,
   "id": "e709dd20-b22c-4ab1-9051-d81679217868",
   "metadata": {},
   "outputs": [
    {
     "data": {
      "image/png": "[encoded data removed]",
      "text/plain": [
       "<Figure size 1000x600 with 1 Axes>"
      ]
     },
     "metadata": {},
     "output_type": "display_data"
    }
   ],
   "source": [
    "import matplotlib.pyplot as plt\n",
    "\n",
    "plt.figure(figsize=(10, 6))\n",
    "for name, losses in loss_history.items():\n",
    "    plt.plot(losses, label=name)\n",
    "\n",
    "plt.title(\"Сравнение функции потерь (Loss) моделей RNN, LSTM и GRU\")\n",
    "plt.xlabel(\"Эпоха\")\n",
    "plt.ylabel(\"Loss\")\n",
    "plt.legend()\n",
    "plt.grid(True)\n",
    "plt.tight_layout()\n",
    "plt.show()\n"
   ]
  },
  {
   "cell_type": "code",
   "execution_count": 11,
   "id": "a6708f5a-cccc-4d00-8be3-027a19d1b7be",
   "metadata": {},
   "outputs": [],
   "source": [
    "def evaluate_model(model, dataset, num_samples=200):\n",
    "    model.eval()\n",
    "    correct = 0\n",
    "    total = 0\n",
    "    with torch.no_grad():\n",
    "        for i in range(num_samples):\n",
    "            x, y_true = dataset[i]\n",
    "            x = x.unsqueeze(0)  # добавим размер батча\n",
    "            output = model(x)\n",
    "            y_pred = torch.argmax(output, dim=-1).squeeze(0)\n",
    "\n",
    "            correct += (y_pred == y_true).sum().item()\n",
    "            total += len(y_true)\n",
    "    \n",
    "    accuracy = correct / total\n",
    "    return round(accuracy * 100, 2)\n"
   ]
  },
  {
   "cell_type": "code",
   "execution_count": 12,
   "id": "149dca98-d708-463c-b872-090f6f81afd6",
   "metadata": {},
   "outputs": [
    {
     "name": "stdout",
     "output_type": "stream",
     "text": [
      "📊 Accuracy RNN:  52.5%\n",
      "📊 Accuracy LSTM: 100.0%\n",
      "📊 Accuracy GRU:  100.0%\n"
     ]
    }
   ],
   "source": [
    "# Новый тестовый датасет\n",
    "test_dataset = DigitSequenceDatasetV2(num_samples=300, seq_len=10)\n",
    "\n",
    "acc_rnn = evaluate_model(rnn_model, test_dataset)\n",
    "acc_lstm = evaluate_model(lstm_model, test_dataset)\n",
    "acc_gru = evaluate_model(gru_model, test_dataset)\n",
    "\n",
    "print(f\"📊 Accuracy RNN:  {acc_rnn}%\")\n",
    "print(f\"📊 Accuracy LSTM: {acc_lstm}%\")\n",
    "print(f\"📊 Accuracy GRU:  {acc_gru}%\")\n"
   ]
  },
  {
   "cell_type": "code",
   "execution_count": 13,
   "id": "a7f673c9-1b2b-463b-b309-6bfd4c88e2c3",
   "metadata": {},
   "outputs": [
    {
     "name": "stderr",
     "output_type": "stream",
     "text": [
      "C:\\Users\\user\\AppData\\Local\\Temp\\ipykernel_7108\\4193431529.py:14: UserWarning: Glyph 128200 (\\N{CHART WITH UPWARDS TREND}) missing from font(s) DejaVu Sans.\n",
      "  plt.tight_layout()\n",
      "C:\\Users\\user\\AppData\\Local\\Programs\\Python\\Python312\\Lib\\site-packages\\IPython\\core\\pylabtools.py:170: UserWarning: Glyph 128200 (\\N{CHART WITH UPWARDS TREND}) missing from font(s) DejaVu Sans.\n",
      "  fig.canvas.print_figure(bytes_io, **kw)\n"
     ]
    },
    {
     "data": {
      "image/png": "[encoded data removed]",
      "text/plain": [
       "<Figure size 800x500 with 1 Axes>"
      ]
     },
     "metadata": {},
     "output_type": "display_data"
    }
   ],
   "source": [
    "import matplotlib.pyplot as plt\n",
    "\n",
    "accuracies = [acc_rnn, acc_lstm, acc_gru]\n",
    "labels = ['RNN', 'LSTM', 'GRU']\n",
    "\n",
    "plt.figure(figsize=(8, 5))\n",
    "plt.bar(labels, accuracies, color=['#66c2a5', '#fc8d62', '#8da0cb'])\n",
    "plt.title(\"📈 Точность моделей на тестовом наборе\")\n",
    "plt.ylabel(\"Accuracy (%)\")\n",
    "plt.ylim(0, 100)\n",
    "for i, acc in enumerate(accuracies):\n",
    "    plt.text(i, acc + 1, f\"{acc}%\", ha='center')\n",
    "plt.grid(axis='y')\n",
    "plt.tight_layout()\n",
    "plt.show()\n"
   ]
  },
  {
   "cell_type": "markdown",
   "id": "fc3871f0-e7c6-45ea-be4a-bb71b09c5acd",
   "metadata": {},
   "source": [
    "### Выводы:\n",
    "\n",
    "1. Все модели успешно решают задачу, но **LSTM и GRU показывают более высокую точность**, чем классическая RNN.\n",
    "2. Это связано с тем, что LSTM и GRU лучше запоминают значение первого элемента `x₀`, который влияет на всю последовательность `y`.\n",
    "3. Простая RNN тоже справляется, но может терять информацию на длинных последовательностях.\n",
    "4. Таким образом, при работе с зависимостями от `x₀`, лучше использовать LSTM или GRU, особенно при больших `seq_len`.\n"
   ]
  },
  {
   "cell_type": "markdown",
   "id": "4d000838-7233-438c-af16-0cf92173e382",
   "metadata": {},
   "source": [
    "## Перевод"
   ]
  },
  {
   "cell_type": "markdown",
   "id": "ed323b97-0803-4267-9f42-4b39f23f7621",
   "metadata": {},
   "source": [
    "Этот перевод я сделал на основе лекционного, для понимания работы, второй я загрузил отдельно, там добавил многослойность"
   ]
  },
  {
   "cell_type": "code",
   "execution_count": 14,
   "id": "102a9086-cfcc-4644-a5b8-75b2ba2f3557",
   "metadata": {},
   "outputs": [],
   "source": [
    "from io import open\n",
    "import unicodedata\n",
    "import string\n",
    "import re\n",
    "import random\n",
    "import torch\n",
    "import torch.nn as nn\n",
    "from torch import optim\n",
    "import torch.nn.functional as F\n",
    "import warnings\n",
    "\n",
    "warnings.filterwarnings(\"ignore\")\n",
    "device = torch.device(\"cuda\" if torch.cuda.is_available() else \"cpu\")"
   ]
  },
  {
   "cell_type": "code",
   "execution_count": 15,
   "id": "1e756b6e-f6d1-42be-b471-3ede578c7d76",
   "metadata": {},
   "outputs": [],
   "source": [
    "# Определим по умолчанию 2 токена которые будут нам информировать о начале предложения и конце предложения (SOS и EOS):\n",
    "SOS_token = 0\n",
    "EOS_token = 1\n",
    "\n",
    "# Создадим объект словаря нашего языка, который будет хранить данные по маппингу слов - index2word и обратно word2index и плюс второстепенные методы по добавлению токена и обработке предложений:\n",
    "class LanguageVocabulary(object):\n",
    "    def __init__(self, name):\n",
    "        # название языка\n",
    "        self.name = name\n",
    "        # словарик word2index который хранит соответственно кодировку слова в целочисленный индекс словаря\n",
    "        self.word2index = {}\n",
    "        # обычный словарик который хранит распределение слов, сколько слов мы использовали и сколько обнаружили\n",
    "        self.word2count = {}\n",
    "        # Обратный словарик словарю word2index где хранятся уже индексы и замаппенные слова к каждому индексу, нужен будет для расшифровки последовательности\n",
    "        self.index2word = {0: \"SOS\", 1: \"EOS\"}\n",
    "        # Count SOS and EOS, храним просто общее количество слов в нашем словаре, то есть количество токенов в сформированном словарике нашего языка\n",
    "        self.n_words = 2\n",
    "\n",
    "    def add_sentence(self, sentence):\n",
    "        \"\"\"\n",
    "        Метод класса, для добавления предложения в словарь.\n",
    "        Каждое предложение поступающее к нам, будет разбираться на\n",
    "        примитивные токены и добавляться в словарь при помощи метода класса addword()\n",
    "        \"\"\"\n",
    "        for word in sentence.split(' '):\n",
    "            self.add_word(word)\n",
    "\n",
    "\n",
    "    def add_word(self, word):\n",
    "        # проверяем не входит ли наше слово в словарь word2index\n",
    "        if word not in self.word2index:\n",
    "            # добавляем в качестве ключа слово а в качестве значения последнее n_words\n",
    "            self.word2index[word] = self.n_words\n",
    "            # меняем на единичку\n",
    "            self.word2count[word] = 1\n",
    "            # и соответственно меняем и index2word словарик добавляя уже слово для декодирования\n",
    "            self.index2word[self.n_words] = word\n",
    "            # инкрементируем n_words\n",
    "            self.n_words += 1\n",
    "        else:\n",
    "            # Если такое уже слово есть просто добавляем 1 что добавилось одно слово\n",
    "            self.word2count[word] += 1"
   ]
  },
  {
   "cell_type": "code",
   "execution_count": 18,
   "id": "ca806664-0227-45c2-a703-b97eb4259ea7",
   "metadata": {},
   "outputs": [],
   "source": [
    "# Turn a Unicode string to plain ASCII, thanks to\n",
    "# http://stackoverflow.com/a/518232/2809427\n",
    "def unicode_to_ascii(s):\n",
    "    return ''.join(\n",
    "        c for c in unicodedata.normalize('NFD', s)\n",
    "        if unicodedata.category(c) != 'Mn'\n",
    "    )\n",
    "\n",
    "# Lowercase, trim, and remove non-letter characters\n",
    "def normalize_string(s):\n",
    "    # Сначала приводим к нижнему регистру и обрезаем пробелы по краям\n",
    "    s = s.lower().strip()\n",
    "\n",
    "    # Если нужно, чтобы точки, восклицательные и вопросительные знаки \n",
    "    # отделялись пробелами (например: \"привет!\" -> \"привет !\"),\n",
    "    # можно оставить эту строку:\n",
    "    s = re.sub(r\"([.!?])\", r\" \\1\", s)\n",
    "\n",
    "    # Теперь самое важное:\n",
    "    # вместо [^a-zA-Z.!?]+ (которое оставляло только латиницу, !, ?, .)\n",
    "    # мы разрешаем буквы а-я, ё, а также латинские буквы и пунктуацию.\n",
    "    # Регулярка ниже оставляет:\n",
    "    #  - a-z, а-я, букву ё, Ё\n",
    "    #  - знаки . ! ? \n",
    "    #  - пробелы\n",
    "    # Остальное заменяет на пробел.\n",
    "    s = re.sub(r\"[^a-zа-яё.!?]+\", r\" \", s)\n",
    "\n",
    "    # Сжимаем повторяющиеся пробелы\n",
    "    s = re.sub(r\"\\s+\", \" \", s)\n",
    "\n",
    "    return s.strip()"
   ]
  },
  {
   "cell_type": "code",
   "execution_count": 19,
   "id": "6f64857f-f3a7-4bf9-9456-4f05879ce0b1",
   "metadata": {},
   "outputs": [],
   "source": [
    "def read_languages(lang1, lang2, reverse=False):\n",
    "    print(\"Reading lines...\")\n",
    "    # Берем документ корпуса, лежащий в директории ./data/___.txt подставляя значения указанных языков в нашем случае eng-fra, он читается бьется на предложения\n",
    "    lines = open('data/%s-%s.txt' % (lang1, lang2), encoding='utf-8').read().strip().split('\\n')\n",
    "    # Разбиваем построчно и нормализуем строку:\n",
    "    pairs = [[normalize_string(s) for s in l.split('\\t')] for l in lines]\n",
    "    # Можем создавать и проходить как с целевого языка на исходный так и наоборот:\n",
    "    if reverse:\n",
    "        pairs = [list(reversed(p)) for p in pairs]\n",
    "        input_lang = LanguageVocabulary(lang2)\n",
    "        output_lang = LanguageVocabulary(lang1)\n",
    "    else:\n",
    "        input_lang = LanguageVocabulary(lang1)\n",
    "        output_lang = LanguageVocabulary(lang2)\n",
    "    return input_lang, output_lang, pairs"
   ]
  },
  {
   "cell_type": "code",
   "execution_count": 20,
   "id": "927e2d6c-4ebf-4c10-b556-14942d4a49b0",
   "metadata": {},
   "outputs": [],
   "source": [
    "MAX_LENGTH = 9\n",
    "eng_prefixes = (\n",
    "    \"i am \", \"i m \",\n",
    "    \"he is\", \"he s \",\n",
    "    \"she is\", \"she s\",\n",
    "    \"you are\", \"you re \",\n",
    "    \"we are\", \"we re \",\n",
    "    \"they are\", \"they re \"\n",
    ")\n",
    "\n",
    "def filter_pair(p):\n",
    "    return len(p[0].split(' ')) < MAX_LENGTH and len(p[1].split(' ')) < MAX_LENGTH and p[1].startswith(eng_prefixes)\n",
    "\n",
    "def filter_pairs(pairs):\n",
    "    return [pair for pair in pairs if filter_pair(pair)]"
   ]
  },
  {
   "cell_type": "code",
   "execution_count": 21,
   "id": "3ccbeae2-0f09-4cec-8d7b-dd8e5b430bf0",
   "metadata": {},
   "outputs": [],
   "source": [
    "def prepare_data(lang1, lang2, reverse=False):\n",
    "    input_lang, output_lang, pairs = read_languages(lang1, lang2, reverse)\n",
    "    print(\"Read %s sentence pairs\" % len(pairs))\n",
    "    pairs = filter_pairs(pairs)\n",
    "    print(\"Trimmed to %s sentence pairs\" % len(pairs))\n",
    "    print(\"Counting words...\")\n",
    "    for pair in pairs:\n",
    "        input_lang.add_sentence(pair[0])\n",
    "        output_lang.add_sentence(pair[1])\n",
    "    print(\"Counted words:\")\n",
    "    print(input_lang.name, input_lang.n_words)\n",
    "    print(output_lang.name, output_lang.n_words)\n",
    "    return input_lang, output_lang, pairs"
   ]
  },
  {
   "cell_type": "code",
   "execution_count": 22,
   "id": "1a26902a-ef97-4c3c-89a5-c701bcdec196",
   "metadata": {},
   "outputs": [
    {
     "name": "stdout",
     "output_type": "stream",
     "text": [
      "Reading lines...\n",
      "Read 496059 sentence pairs\n",
      "Trimmed to 24918 sentence pairs\n",
      "Counting words...\n",
      "Counted words:\n",
      "rus 9323\n",
      "eng 4021\n",
      "['мы не слушаем .', 'we re not listening .']\n"
     ]
    }
   ],
   "source": [
    "input_lang, output_lang, pairs = prepare_data('eng', 'rus', True)\n",
    "print(random.choice(pairs))"
   ]
  },
  {
   "cell_type": "code",
   "execution_count": 23,
   "id": "cb7e84ed-10c5-4df2-9224-d3d23ee057b8",
   "metadata": {},
   "outputs": [],
   "source": [
    "class EncoderRNN(nn.Module):\n",
    "    def __init__(self, input_size, hidden_size):\n",
    "        super(EncoderRNN, self).__init__()\n",
    "        # Как помним hidden_size - размер скрытого состояния\n",
    "        self.hidden_size = hidden_size\n",
    "        # Слой Эмбеддингов, который из входного вектора последовательности (либо батча) отдаст представление последовательности для скрытого состояния\n",
    "        # FYI: в качестве Input_size у нас размер словаря\n",
    "        self.embedding = nn.Embedding(input_size, hidden_size)\n",
    "        # И соответственно рекуррентная ячейка GRU которая принимает MxM (hidden на hidden)\n",
    "        self.gru = nn.GRU(hidden_size, hidden_size)\n",
    "\n",
    "    def forward(self, input, hidden):\n",
    "        # Приводим эмбеддинг к формату одного предлоежния 1х1 и любая размерность\n",
    "        embedded = self.embedding(input).view(1, 1, -1)\n",
    "        # Нужно для следующего шага пока не запутываемся :) просто присвоили наш эмбеддинг\n",
    "        output = embedded\n",
    "        # и соответственно подаем все в ГРЮ ячейку (эмбеддинг и скрытые состояния)\n",
    "        output, hidden = self.gru(output, hidden)\n",
    "        return output, hidden\n",
    "\n",
    "    def initHidden(self):\n",
    "        # Дополнительно сделаем инициализацию скрытого представления (просто заполним нулями)\n",
    "        return torch.zeros(1, 1, self.hidden_size, device=device)"
   ]
  },
  {
   "cell_type": "code",
   "execution_count": 24,
   "id": "9fd6d342-9772-4f33-b87e-c24c94c7c7fc",
   "metadata": {},
   "outputs": [],
   "source": [
    "class AttentionDecoder(nn.Module):\n",
    "    # Будьте внимательны, теперь на вход мы получаем размер скрытого представления\n",
    "    def __init__(self, hidden_size, output_size, dropout_p=0.1, max_length=MAX_LENGTH):\n",
    "        super(AttentionDecoder, self).__init__()\n",
    "        self.hidden_size = hidden_size\n",
    "        self.output_size = output_size\n",
    "        self.dropout_p = dropout_p\n",
    "        self.max_length = max_length\n",
    "\n",
    "        self.embedding = nn.Embedding(self.output_size, self.hidden_size)\n",
    "        self.attn = nn.Linear(self.hidden_size * 2, self.max_length)\n",
    "        self.attn_combine = nn.Linear(self.hidden_size * 2, self.hidden_size)\n",
    "        self.dropout = nn.Dropout(self.dropout_p)\n",
    "        self.gru = nn.GRU(self.hidden_size, self.hidden_size)\n",
    "        self.out = nn.Linear(self.hidden_size, self.output_size)\n",
    "\n",
    "    def forward(self, input, hidden, encoder_outputs):\n",
    "        embedded = self.embedding(input).view(1, 1, -1)\n",
    "        embedded = self.dropout(embedded)\n",
    "\n",
    "        attn_weights = F.softmax(\n",
    "            self.attn(torch.cat((embedded[0], hidden[0]), 1)), dim=1)\n",
    "        attn_applied = torch.bmm(attn_weights.unsqueeze(0),\n",
    "                                 encoder_outputs.unsqueeze(0))\n",
    "\n",
    "        output = torch.cat((embedded[0], attn_applied[0]), 1)\n",
    "        output = self.attn_combine(output).unsqueeze(0)\n",
    "\n",
    "        output = F.relu(output)\n",
    "        output, hidden = self.gru(output, hidden)\n",
    "\n",
    "        output = F.log_softmax(self.out(output[0]), dim=1)\n",
    "        return output, hidden, attn_weights\n",
    "\n",
    "    def initHidden(self):\n",
    "        return torch.zeros(1, 1, self.hidden_size, device=device)"
   ]
  },
  {
   "cell_type": "code",
   "execution_count": 25,
   "id": "6379bf11-bcc4-4fd0-ba5f-c769b8c9fee0",
   "metadata": {},
   "outputs": [],
   "source": [
    "# Токены кодируем в целочисленное представление\n",
    "def indexesFromSentence(lang, sentence):\n",
    "    return [lang.word2index[word] for word in sentence.split(' ')]\n",
    "\n",
    "\n",
    "# Берем предложение с указанным языком, делаем из него индексы и вставляем метку конца предложения, превращаем в тензор:\n",
    "def tensorFromSentence(lang, sentence):\n",
    "    indexes = indexesFromSentence(lang, sentence)\n",
    "    indexes.append(EOS_token)\n",
    "    return torch.tensor(indexes, dtype=torch.long, device=device).view(-1, 1)\n",
    "\n",
    "# Для создания тензора из пар:\n",
    "def tensorsFromPair(pair):\n",
    "    input_tensor = tensorFromSentence(input_lang, pair[0])\n",
    "    target_tensor = tensorFromSentence(output_lang, pair[1])\n",
    "    return (input_tensor, target_tensor)"
   ]
  },
  {
   "cell_type": "code",
   "execution_count": 26,
   "id": "819a7bd0-aad5-4db5-a8cb-d1f9f443fb00",
   "metadata": {},
   "outputs": [],
   "source": [
    "teacher_forcing_ratio = 0.5\n",
    "\n",
    "\n",
    "def train(input_tensor, target_tensor, encoder, decoder, encoder_optimizer, decoder_optimizer, criterion, max_length=MAX_LENGTH):\n",
    "    # Просто инициализируем скрытое представление для энкодера\n",
    "    encoder_hidden = encoder.initHidden()\n",
    "    # Скиыдваем градиенты для алгоритма градиентного спуска как и у энкодера так и у дэкодера\n",
    "    encoder_optimizer.zero_grad()\n",
    "    decoder_optimizer.zero_grad()\n",
    "    # Получаем размер в словаря (токенов) для входящего и выходящего тензора так как мы пробегаемся по каждому предложению по кусочкам\n",
    "    input_length = input_tensor.size(0)\n",
    "    target_length = target_tensor.size(0)\n",
    "    # Создаем переменную где будем хранить наши выходы из энкодера (в данной реализации пока не юзаем, далее будет еще один вариант)\n",
    "    encoder_outputs = torch.zeros(max_length, encoder.hidden_size, device=device)\n",
    "    loss = 0\n",
    "    # пробегаем по длине входящего тензора и в экодер передаем последовательно каждый из токенов:\n",
    "    for ei in range(input_length):\n",
    "        encoder_output, encoder_hidden = encoder(input_tensor[ei], encoder_hidden)\n",
    "        # Сохраняем все выходы из энкодера для одного слова (для передачи в декодер, ниже)\n",
    "        encoder_outputs[ei] = encoder_output[0, 0]\n",
    "\n",
    "\n",
    "    # Закончили с энкодером пошли к декодеру, как было сказано декодер начинается с SOS\n",
    "    decoder_input = torch.tensor([[SOS_token]], device=device)\n",
    "    # FYI здесь мы скрытое представление из энкодера передаем в скрытое представление в декодер, то есть после знака =\n",
    "    # у нас будут ходить градиенты из декодера в энкодер, то есть когда мы будем считать градиенты, они сначала пробегут по декодеру\n",
    "    # дойдут до знака = перескочат в энкодер и будут дальше считаться по энкодеру и эти градиенты сохранятся в соответствующих тензорах\n",
    "    # и когда будут отрабатывать разные оптимайзеры (у нас их 2) у них будут соответствующие правильные градиенты которые смогут правильно отработать\n",
    "    decoder_hidden = encoder_hidden\n",
    "\n",
    "    # Будем использовать Teacher Forcing в части случае (подставляя правильную последовательность)\n",
    "    use_teacher_forcing = True if random.random() < teacher_forcing_ratio else False\n",
    "    if use_teacher_forcing:\n",
    "        # Подаем decoder_input = torch.tensor([[SOS_token]], device=device) то есть по одному слову и скрытое представление\n",
    "        for di in range(target_length):\n",
    "            # Переведенное предложение и скрытое представление\n",
    "            decoder_output, decoder_hidden, decoder_attention = decoder(decoder_input, decoder_hidden, encoder_outputs)\n",
    "            # Считаем ошибку\n",
    "            loss += criterion(decoder_output, target_tensor[di])\n",
    "            decoder_input = target_tensor[di]  # Teacher forcing\n",
    "    else:\n",
    "        for di in range(target_length):\n",
    "            decoder_output, decoder_hidden, decoder_attention = decoder(decoder_input, decoder_hidden, encoder_outputs)\n",
    "            topv, topi = decoder_output.topk(1)\n",
    "            decoder_input = topi.squeeze().detach()  # detach from history as input\n",
    "            loss += criterion(decoder_output, target_tensor[di])\n",
    "            if decoder_input.item() == EOS_token:\n",
    "                break\n",
    "    loss.backward()\n",
    "    encoder_optimizer.step()\n",
    "    decoder_optimizer.step()\n",
    "    return loss.item() / target_length"
   ]
  },
  {
   "cell_type": "code",
   "execution_count": 27,
   "id": "2eb93444-5768-4e84-bab5-779019e24568",
   "metadata": {},
   "outputs": [],
   "source": [
    "import time\n",
    "import math\n",
    "\n",
    "\n",
    "def asMinutes(s):\n",
    "    m = math.floor(s / 60)\n",
    "    s -= m * 60\n",
    "    return '%dm %ds' % (m, s)\n",
    "\n",
    "\n",
    "def timeSince(since, percent):\n",
    "    now = time.time()\n",
    "    s = now - since\n",
    "    es = s / percent\n",
    "    rs = es - s\n",
    "    return '%s (- eta: %s)' % (asMinutes(s), asMinutes(rs))"
   ]
  },
  {
   "cell_type": "code",
   "execution_count": 28,
   "id": "29054497-3b87-4d6c-b686-462a7c0fecc6",
   "metadata": {},
   "outputs": [],
   "source": [
    "def trainIters(encoder, decoder, n_iters, print_every=1000, plot_every=100, learning_rate=0.01):\n",
    "    start = time.time()\n",
    "    plot_losses = []\n",
    "    print_loss_total = 0  # Reset every print_every\n",
    "    plot_loss_total = 0  # Reset every plot_every\n",
    "\n",
    "    encoder_optimizer = optim.SGD(encoder.parameters(), lr=learning_rate)\n",
    "    decoder_optimizer = optim.SGD(decoder.parameters(), lr=learning_rate)\n",
    "    # Делаем выборку наших пар функцией которую создали до\n",
    "    training_pairs = [tensorsFromPair(random.choice(pairs)) for i in range(n_iters)]\n",
    "    # FYI! Используем Negative Log-Likelihood Loss потому что log softmax уже присутствует в модели\n",
    "    criterion = nn.NLLLoss()\n",
    "\n",
    "    for epoch in range(1, n_iters + 1):\n",
    "        training_pair = training_pairs[epoch - 1]\n",
    "        input_tensor = training_pair[0]\n",
    "        target_tensor = training_pair[1]\n",
    "        # Используем функцию для тренировки на отдельных токенах, которую написали выше\n",
    "        loss = train(input_tensor, target_tensor, encoder,\n",
    "                     decoder, encoder_optimizer, decoder_optimizer, criterion)\n",
    "        print_loss_total += loss\n",
    "        plot_loss_total += loss\n",
    "\n",
    "        if epoch % print_every == 0:\n",
    "            print_loss_avg = print_loss_total / print_every\n",
    "            print_loss_total = 0\n",
    "            print('%s (%d %d%%) %.4f' % (timeSince(start, epoch / n_iters),\n",
    "                                         epoch, epoch / n_iters * 100, print_loss_avg))\n",
    "\n",
    "        if epoch % plot_every == 0:\n",
    "            plot_loss_avg = plot_loss_total / plot_every\n",
    "            plot_losses.append(plot_loss_avg)\n",
    "            plot_loss_total = 0\n",
    "    showPlot(plot_losses)"
   ]
  },
  {
   "cell_type": "code",
   "execution_count": 29,
   "id": "db88f6bb-e9dc-4e9a-9f14-3de7a5dc827e",
   "metadata": {},
   "outputs": [],
   "source": [
    "import matplotlib.pyplot as plt\n",
    "import matplotlib.ticker as ticker\n",
    "plt.switch_backend('agg')\n",
    "\n",
    "\n",
    "def showPlot(points):\n",
    "    plt.figure()\n",
    "    fig, ax = plt.subplots()\n",
    "    loc = ticker.MultipleLocator(base=0.2)\n",
    "    ax.yaxis.set_major_locator(loc)\n",
    "    plt.plot(points)"
   ]
  },
  {
   "cell_type": "code",
   "execution_count": 30,
   "id": "d2f20d4e-43f2-444f-87bb-02376defb909",
   "metadata": {},
   "outputs": [],
   "source": [
    "def evaluate_sentences(encoder, decoder, sentence, max_length=MAX_LENGTH):\n",
    "    with torch.no_grad():\n",
    "        input_tensor = tensorFromSentence(input_lang, sentence)\n",
    "        input_length = input_tensor.size()[0]\n",
    "        encoder_hidden = encoder.initHidden()\n",
    "\n",
    "        encoder_outputs = torch.zeros(max_length, encoder.hidden_size, device=device)\n",
    "\n",
    "        for ei in range(input_length):\n",
    "            encoder_output, encoder_hidden = encoder(input_tensor[ei],\n",
    "                                                     encoder_hidden)\n",
    "            encoder_outputs[ei] += encoder_output[0, 0]\n",
    "\n",
    "        decoder_input = torch.tensor([[SOS_token]], device=device)  # SOS\n",
    "\n",
    "        decoder_hidden = encoder_hidden\n",
    "\n",
    "        decoded_words = []\n",
    "        decoder_attentions = torch.zeros(max_length, max_length)\n",
    "\n",
    "        for di in range(max_length):\n",
    "            decoder_output, decoder_hidden, decoder_attention = decoder(\n",
    "                decoder_input, decoder_hidden, encoder_outputs)\n",
    "            decoder_attentions[di] = decoder_attention.data\n",
    "            topv, topi = decoder_output.data.topk(1)\n",
    "            if topi.item() == EOS_token:\n",
    "                decoded_words.append('<EOS>')\n",
    "                break\n",
    "            else:\n",
    "                decoded_words.append(output_lang.index2word[topi.item()])\n",
    "\n",
    "            decoder_input = topi.squeeze().detach()\n",
    "\n",
    "        return decoded_words, decoder_attentions[:di + 1]"
   ]
  },
  {
   "cell_type": "code",
   "execution_count": 31,
   "id": "d50ca051-e2e2-4e17-87f3-e73e7758aa51",
   "metadata": {},
   "outputs": [],
   "source": [
    "import evaluate\n",
    "\n",
    "bleu = evaluate.load(\"bleu\")\n",
    "\n",
    "references, predictions = [],[]\n",
    "def evaluateRandomly(encoder, decoder, n=10):\n",
    "    for i in range(n):\n",
    "        pair = random.choice(pairs)\n",
    "        print('>', pair[0])\n",
    "        print('=', pair[1])\n",
    "        references.append(pair[1])\n",
    "        output_words, attentions = evaluate_sentences(encoder, decoder, pair[0])\n",
    "        output_sentence = ' '.join(output_words)\n",
    "        print('<', output_sentence)\n",
    "        predictions.append(output_sentence)\n",
    "        print('')\n",
    "\n",
    "    results = bleu.compute(predictions=predictions, references=references)\n",
    "    return f\"BLEU Score: {results}\""
   ]
  },
  {
   "cell_type": "code",
   "execution_count": 32,
   "id": "ac481ef5-859d-46f3-93a5-ae15928c6220",
   "metadata": {},
   "outputs": [
    {
     "name": "stdout",
     "output_type": "stream",
     "text": [
      "12m 31s (- eta: 175m 26s) (5000 6%) 2.9301\n",
      "25m 0s (- eta: 162m 36s) (10000 13%) 2.3686\n",
      "37m 20s (- eta: 149m 22s) (15000 20%) 2.0424\n",
      "49m 32s (- eta: 136m 15s) (20000 26%) 1.8117\n",
      "61m 43s (- eta: 123m 27s) (25000 33%) 1.6165\n",
      "73m 41s (- eta: 110m 32s) (30000 40%) 1.4828\n",
      "85m 59s (- eta: 98m 17s) (35000 46%) 1.3372\n",
      "98m 19s (- eta: 86m 2s) (40000 53%) 1.2697\n",
      "110m 29s (- eta: 73m 39s) (45000 60%) 1.1450\n",
      "122m 37s (- eta: 61m 18s) (50000 66%) 1.0641\n",
      "134m 46s (- eta: 49m 0s) (55000 73%) 0.9722\n",
      "146m 56s (- eta: 36m 44s) (60000 80%) 0.9195\n",
      "159m 7s (- eta: 24m 28s) (65000 86%) 0.8697\n",
      "171m 23s (- eta: 12m 14s) (70000 93%) 0.7961\n",
      "183m 29s (- eta: 0m 0s) (75000 100%) 0.7557\n"
     ]
    }
   ],
   "source": [
    "hidden_size = 512\n",
    "encoder1 = EncoderRNN(input_lang.n_words, hidden_size).to(device)\n",
    "decoder1 = AttentionDecoder(hidden_size, output_lang.n_words, dropout_p=0.1).to(device)\n",
    "trainIters(encoder1, decoder1, 75000, print_every=5000)"
   ]
  },
  {
   "cell_type": "code",
   "execution_count": 35,
   "id": "db8346ab-777e-43a0-8130-71d8bc70c369",
   "metadata": {},
   "outputs": [
    {
     "name": "stdout",
     "output_type": "stream",
     "text": [
      "> он что то бормочет .\n",
      "= he s mumbling something .\n",
      "< he s telling telling . . <EOS>\n",
      "\n",
      "> вы такая грязная !\n",
      "= you re so dirty .\n",
      "< you re so dirty . <EOS>\n",
      "\n",
      "> я рад что наконец встретил вас .\n",
      "= i m glad to finally meet you .\n",
      "< i m glad to finally meet you . <EOS>\n",
      "\n",
      "> они прямо за тобой .\n",
      "= they re right behind you .\n",
      "< they re right behind you . <EOS>\n",
      "\n",
      "> он жестокий и бессердечный .\n",
      "= he s cruel and heartless .\n",
      "< he s and and stupid . <EOS>\n",
      "\n",
      "> он аристократ .\n",
      "= he s an aristocrat .\n",
      "< he s an aristocrat . <EOS>\n",
      "\n",
      "> на них нельзя положиться .\n",
      "= they are unreliable .\n",
      "< they are unreliable . <EOS>\n",
      "\n",
      "> вы мне понадобитесь .\n",
      "= i m going to need you .\n",
      "< i m going to need you . <EOS>\n",
      "\n",
      "> рад тебя снова видеть .\n",
      "= i m glad to see you again .\n",
      "< i m glad to see you again . <EOS>\n",
      "\n",
      "> он не в духе .\n",
      "= he is in a bad mood .\n",
      "< he s not in the . . <EOS>\n",
      "\n"
     ]
    }
   ],
   "source": [
    "score = evaluateRandomly(encoder1, decoder1, n=10)"
   ]
  },
  {
   "cell_type": "code",
   "execution_count": 34,
   "id": "6bc4dced-b444-4fbd-a51b-9c36f8e38fa0",
   "metadata": {},
   "outputs": [
    {
     "data": {
      "text/plain": [
       "\"BLEU Score: {'bleu': 0.3880795103372091, 'precisions': [0.5793374019180471, 0.4441046966731898, 0.3407190635451505, 0.25874352331606215], 'brevity_penalty': 1.0, 'length_ratio': 1.480238748185191, 'translation_length': 9176, 'reference_length': 6199}\""
      ]
     },
     "execution_count": 34,
     "metadata": {},
     "output_type": "execute_result"
    }
   ],
   "source": [
    "score"
   ]
  },
  {
   "cell_type": "code",
   "execution_count": null,
   "id": "ed6a8d43-ea7e-433e-8996-1ae741bc48d4",
   "metadata": {},
   "outputs": [],
   "source": []
  }
 ],
 "metadata": {
  "kernelspec": {
   "display_name": "Python 3 (ipykernel)",
   "language": "python",
   "name": "python3"
  },
  "language_info": {
   "codemirror_mode": {
    "name": "ipython",
    "version": 3
   },
   "file_extension": ".py",
   "mimetype": "text/x-python",
   "name": "python",
   "nbconvert_exporter": "python",
   "pygments_lexer": "ipython3",
   "version": "3.12.4"
  }
 },
 "nbformat": 4,
 "nbformat_minor": 5
}
