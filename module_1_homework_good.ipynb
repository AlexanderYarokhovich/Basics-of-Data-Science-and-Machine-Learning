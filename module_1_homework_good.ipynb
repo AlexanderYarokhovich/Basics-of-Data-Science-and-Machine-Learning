{
 "cells": [
  {
   "cell_type": "markdown",
   "metadata": {
    "pycharm": {
     "name": "#%% md\n"
    }
   },
   "source": [
    "# Домашнее задание на проверку знаний библиотеки для анализа данных Pandas.\n",
    "\n",
    "Вам представлен датасет, который содержит информацию по результатам сезона 2016 года игры в бейсбол.\n",
    "\n",
    "Вам необходимо загрузить датасет (он находится в архиве с текущим домашним заданием). Провести его очистку, если это необходимо и ответить на поставленные аналитические\n",
    "вопросы.\n",
    "\n",
    "Список колонок, представленных в датасете:\n",
    "\n",
    "---\n",
    "* attendance        - количество зрителей матча\n",
    "* away_team         - название гостевой команды\n",
    "* away_team_errors  - количество ошибок гостевой команды\n",
    "* away_team_hits    - количество хитов гостевой команды (хит в бейсболе - удар при котором отбивающий достиг первой базы)\n",
    "* away_team_runs    - количество ранов гостевой команды (ран в бейсболе - очко заработанное игроком нападения)\n",
    "* date              - дата проведения матча\n",
    "* field_type        - тип игрового поля\n",
    "* game_type         - тип игры\n",
    "* home_team         - название домашней команды\n",
    "* home_team_errors  - количество ошибок домашней команды\n",
    "* home_team_hits    - количество хитов домашней команды (хит в бейсболе - удар при котором отбивающий достиг первой базы)\n",
    "* home_team_runs    - количество ранов домашней команды (ран в бейсболе - очко заработанное игроком нападения)\n",
    "* start_time        - время начала игрового матча\n",
    "* venue             - название места проведения матча (стадион, поле, арена)\n",
    "* day_of_week       - день недели проведения матча\n",
    "* temperature       - температура воздуха в день проведения матча в фаренгейтах\n",
    "* wind_speed        - скорость ветра в день проведения матча\n",
    "* wind_direction    - направление скорости ветра\n",
    "* sky               - облачность\n",
    "* total_runs        - общее количество ранов для двух команд\n",
    "* game_hours_dec    - длительность матча указаная в часах\n",
    "* season            - тип игрового сезона\n",
    "* home_team_win     - результат домашней команды (1 - выигрыш)\n",
    "* home_team_loss    - результат домашней команды (0 - проигрыш)\n",
    "* home_team_outcome - исход матча\n",
    "---\n",
    "\n",
    "Всего в задании 20 вопросов. За каждый правильный вопрос начисляется 5 баллов. Таким образом за все правильные ответы вы получите - 100 баллов. Оценка затем будет приведена к 10-ти бальной шкале.\n",
    "\n",
    "---\n",
    "\n",
    "**Кроме того, баллы могут быть снижены за**:\n",
    "\n",
    "- 1 балл снижается за качество кода - старайтесь чтобы код был максимально лаконичным. Названия переменных (если они используются) должны отражать максимальную ее сущность. Вывод старайтесь делать минимальным, так как первичная цель - сделать качественный анализ, чтобы быстро ответить на поставленный вопрос (никаких таблиц на 100 строк)."
   ]
  },
  {
   "cell_type": "code",
   "execution_count": 1,
   "metadata": {
    "pycharm": {
     "name": "#%%\n"
    }
   },
   "outputs": [],
   "source": [
    "# Импортируйimport pandas as pdте все необходимые библиотеки и модули которые вам необходимы\n",
    "import pandas as pd"
   ]
  },
  {
   "cell_type": "code",
   "execution_count": 2,
   "metadata": {
    "pycharm": {
     "name": "#%%\n"
    }
   },
   "outputs": [
    {
     "name": "stderr",
     "output_type": "stream",
     "text": [
      "C:\\Users\\user\\AppData\\Local\\Temp\\ipykernel_9492\\1754543278.py:4: FutureWarning: A value is trying to be set on a copy of a DataFrame or Series through chained assignment using an inplace method.\n",
      "The behavior will change in pandas 3.0. This inplace method will never work because the intermediate object on which we are setting values always behaves as a copy.\n",
      "\n",
      "For example, when doing 'df[col].method(value, inplace=True)', try using 'df.method({col: value}, inplace=True)' or df[col] = df[col].method(value) instead, to perform the operation inplace on the original object.\n",
      "\n",
      "\n",
      "  regular_season_data['attendance'].fillna(regular_season_data['attendance'].median(), inplace=True)\n",
      "C:\\Users\\user\\AppData\\Local\\Temp\\ipykernel_9492\\1754543278.py:4: SettingWithCopyWarning: \n",
      "A value is trying to be set on a copy of a slice from a DataFrame\n",
      "\n",
      "See the caveats in the documentation: https://pandas.pydata.org/pandas-docs/stable/user_guide/indexing.html#returning-a-view-versus-a-copy\n",
      "  regular_season_data['attendance'].fillna(regular_season_data['attendance'].median(), inplace=True)\n"
     ]
    }
   ],
   "source": [
    "# Загрузите датасет и проведите его очистку и форматирование если это необходимо\n",
    "data = pd.read_csv('baseball_games.csv')\n",
    "regular_season_data = data[data['season'] == 'regular season']\n",
    "regular_season_data['attendance'].fillna(regular_season_data['attendance'].median(), inplace=True)"
   ]
  },
  {
   "cell_type": "markdown",
   "metadata": {},
   "source": [
    "Парни в телеге в чате написали, что лучше сразу отфильтровать те строки, которые относятня к регулярному сезону, и пропущенные заполняются медианой. inplace=True внутри какой-то функции, это значит, что изменения будут сразу же внесены в оригинальный DataFrame (таблицу), с помощью .fillna() можно заменить их на какое-то значение. Тут я в fillna передаю медиану."
   ]
  },
  {
   "cell_type": "markdown",
   "metadata": {
    "pycharm": {
     "name": "#%% md\n"
    }
   },
   "source": [
    "# 1. На какую игру пришло максимальное количество зрителей за весь сезон игр?"
   ]
  },
  {
   "cell_type": "markdown",
   "metadata": {
    "pycharm": {
     "name": "#%%\n"
    }
   },
   "source": [
    "Для ответа на этот вопрос мы ищем строку с максимальным значением в столбце `attendance`, так как это отражает количество зрителей на каждой игре. Используем метод `idxmax()`, чтобы найти индекс строки с наибольшим значением посещаемости, и затем выводим всю строку с деталями матча."
   ]
  },
  {
   "cell_type": "code",
   "execution_count": 3,
   "metadata": {
    "pycharm": {
     "name": "#%%\n"
    }
   },
   "outputs": [
    {
     "data": {
      "text/plain": [
       "Unnamed: 0                            534\n",
       "attendance                        53621.0\n",
       "away_team            San Francisco Giants\n",
       "away_team_errors                        1\n",
       "away_team_hits                         11\n",
       "away_team_runs                          2\n",
       "date                           2016-09-20\n",
       "field_type                       on grass\n",
       "game_type                      Night Game\n",
       "home_team             Los Angeles Dodgers\n",
       "home_team_errors                        0\n",
       "home_team_hits                          9\n",
       "home_team_runs                          0\n",
       "start_time                7:10 p.m. Local\n",
       "venue                      Dodger Stadium\n",
       "day_of_week                       Tuesday\n",
       "temperature                          77.0\n",
       "wind_speed                            6.0\n",
       "wind_direction          out to Rightfield\n",
       "sky                                Cloudy\n",
       "total_runs                              2\n",
       "game_hours_dec                        3.6\n",
       "season                     regular season\n",
       "home_team_win                           0\n",
       "home_team_loss                          1\n",
       "home_team_outcome                    Loss\n",
       "Name: 534, dtype: object"
      ]
     },
     "metadata": {},
     "output_type": "display_data"
    }
   ],
   "source": [
    "max_attendance_game = regular_season_data.loc[regular_season_data['attendance'].idxmax()]\n",
    "display(max_attendance_game)"
   ]
  },
  {
   "cell_type": "markdown",
   "metadata": {},
   "source": [
    "Здесь ищем строку, где количество зрителей (attendance) максимальное. Используется метод idxmax(), который возвращает индекс максимального значения, чтобы отобразить именно эту игру."
   ]
  },
  {
   "cell_type": "markdown",
   "metadata": {
    "pycharm": {
     "name": "#%% md\n"
    }
   },
   "source": [
    "# 2. Какая игра была самая холодная (temperature) за весь сезон?"
   ]
  },
  {
   "cell_type": "code",
   "execution_count": 4,
   "metadata": {
    "pycharm": {
     "name": "#%%\n"
    }
   },
   "outputs": [
    {
     "data": {
      "text/plain": [
       "Unnamed: 0                          2409\n",
       "attendance                       32419.0\n",
       "away_team               New York Yankees\n",
       "away_team_errors                       1\n",
       "away_team_hits                        13\n",
       "away_team_runs                         8\n",
       "date                          2016-04-09\n",
       "field_type                      on grass\n",
       "game_type                       Day Game\n",
       "home_team                 Detroit Tigers\n",
       "home_team_errors                       1\n",
       "home_team_hits                         7\n",
       "home_team_runs                         4\n",
       "start_time               1:10 p.m. Local\n",
       "venue                      Comerica Park\n",
       "day_of_week                     Saturday\n",
       "temperature                         31.0\n",
       "wind_speed                          18.0\n",
       "wind_direction        from Left to Right\n",
       "sky                               Cloudy\n",
       "total_runs                            12\n",
       "game_hours_dec                  3.333333\n",
       "season                    regular season\n",
       "home_team_win                          0\n",
       "home_team_loss                         1\n",
       "home_team_outcome                   Loss\n",
       "Name: 2409, dtype: object"
      ]
     },
     "metadata": {},
     "output_type": "display_data"
    }
   ],
   "source": [
    "coldest_game = regular_season_data.loc[regular_season_data['temperature'].idxmin()]\n",
    "display(coldest_game)"
   ]
  },
  {
   "cell_type": "markdown",
   "metadata": {},
   "source": [
    "Используется метод idxmin() для нахождения строки с самой низкой температурой (temperature). Это помогает найти самую холодную игру. .loc пишу что бы вывести всю строку."
   ]
  },
  {
   "cell_type": "markdown",
   "metadata": {
    "pycharm": {
     "name": "#%% md\n"
    }
   },
   "source": [
    "# 3. Какая игра была самая теплая за весь сезон?"
   ]
  },
  {
   "cell_type": "code",
   "execution_count": 5,
   "metadata": {
    "pycharm": {
     "name": "#%%\n"
    }
   },
   "outputs": [
    {
     "data": {
      "text/plain": [
       "Unnamed: 0                            2026\n",
       "attendance                         21753.0\n",
       "away_team             San Francisco Giants\n",
       "away_team_errors                         0\n",
       "away_team_hits                           8\n",
       "away_team_runs                           3\n",
       "date                            2016-05-13\n",
       "field_type                        on grass\n",
       "game_type                       Night Game\n",
       "home_team             Arizona Diamondbacks\n",
       "home_team_errors                         0\n",
       "home_team_hits                           8\n",
       "home_team_runs                           1\n",
       "start_time                 6:40 p.m. Local\n",
       "venue                          Chase Field\n",
       "day_of_week                         Friday\n",
       "temperature                          101.0\n",
       "wind_speed                             9.0\n",
       "wind_direction        in unknown direction\n",
       "sky                                  Sunny\n",
       "total_runs                               4\n",
       "game_hours_dec                         3.0\n",
       "season                      regular season\n",
       "home_team_win                            0\n",
       "home_team_loss                           1\n",
       "home_team_outcome                     Loss\n",
       "Name: 2026, dtype: object"
      ]
     },
     "metadata": {},
     "output_type": "display_data"
    }
   ],
   "source": [
    "warmest_game = regular_season_data.loc[regular_season_data['temperature'].idxmax()]\n",
    "display(warmest_game)"
   ]
  },
  {
   "cell_type": "markdown",
   "metadata": {},
   "source": [
    "Аналогично пункту выше, но с idxmax(), чтобы найти игру с самой высокой температурой."
   ]
  },
  {
   "cell_type": "markdown",
   "metadata": {
    "pycharm": {
     "name": "#%% md\n"
    }
   },
   "source": [
    "# 4. Какая игра в сезоне была самая долгая по продолжительности матча?"
   ]
  },
  {
   "cell_type": "code",
   "execution_count": 6,
   "metadata": {
    "pycharm": {
     "name": "#%%\n"
    }
   },
   "outputs": [
    {
     "data": {
      "text/plain": [
       "Unnamed: 0                            1445\n",
       "attendance                         45825.0\n",
       "away_team                Cleveland Indians\n",
       "away_team_errors                         0\n",
       "away_team_hits                          15\n",
       "away_team_runs                           2\n",
       "date                            2016-07-01\n",
       "field_type                         on turf\n",
       "game_type                         Day Game\n",
       "home_team                Toronto Blue Jays\n",
       "home_team_errors                         2\n",
       "home_team_hits                          11\n",
       "home_team_runs                           1\n",
       "start_time                 1:20 p.m. Local\n",
       "venue                        Rogers Centre\n",
       "day_of_week                         Friday\n",
       "temperature                           68.0\n",
       "wind_speed                             0.0\n",
       "wind_direction        in unknown direction\n",
       "sky                                In Dome\n",
       "total_runs                               3\n",
       "game_hours_dec                    6.216667\n",
       "season                      regular season\n",
       "home_team_win                            0\n",
       "home_team_loss                           1\n",
       "home_team_outcome                     Loss\n",
       "Name: 1445, dtype: object"
      ]
     },
     "metadata": {},
     "output_type": "display_data"
    }
   ],
   "source": [
    "longest_game = regular_season_data.loc[regular_season_data['game_hours_dec'].idxmax()]\n",
    "display(longest_game)"
   ]
  },
  {
   "cell_type": "markdown",
   "metadata": {},
   "source": [
    "Здесь ищется игра с самой большой продолжительностью (game_hours_dec) с помощю idxmax(), чтобы найти самую долгую игру сезона. "
   ]
  },
  {
   "cell_type": "markdown",
   "metadata": {
    "pycharm": {
     "name": "#%% md\n"
    }
   },
   "source": [
    "# 5. Какая игра в сезоне была самая короткая по продолжительности матча?"
   ]
  },
  {
   "cell_type": "code",
   "execution_count": 7,
   "metadata": {
    "pycharm": {
     "name": "#%%\n"
    }
   },
   "outputs": [
    {
     "data": {
      "text/plain": [
       "Unnamed: 0                          423\n",
       "attendance                      19991.0\n",
       "away_team                  Chicago Cubs\n",
       "away_team_errors                      1\n",
       "away_team_hits                        4\n",
       "away_team_runs                        1\n",
       "date                         2016-09-29\n",
       "field_type                     on grass\n",
       "game_type                    Night Game\n",
       "home_team            Pittsburgh Pirates\n",
       "home_team_errors                      0\n",
       "home_team_hits                        2\n",
       "home_team_runs                        1\n",
       "start_time              7:06 p.m. Local\n",
       "venue                          PNC Park\n",
       "day_of_week                    Thursday\n",
       "temperature                        63.0\n",
       "wind_speed                         12.0\n",
       "wind_direction        in from Leftfield\n",
       "sky                            Overcast\n",
       "total_runs                            2\n",
       "game_hours_dec                     1.25\n",
       "season                   regular season\n",
       "home_team_win                         0\n",
       "home_team_loss                        0\n",
       "home_team_outcome                  Loss\n",
       "Name: 423, dtype: object"
      ]
     },
     "metadata": {},
     "output_type": "display_data"
    }
   ],
   "source": [
    "shortest_game = regular_season_data.loc[regular_season_data['game_hours_dec'].idxmin()]\n",
    "display(shortest_game)"
   ]
  },
  {
   "cell_type": "markdown",
   "metadata": {},
   "source": [
    "Смотрим минимальный индекс по столбцу game_hours_dec, и через .loc выводим строку с самой короткой игрой по продолжительности."
   ]
  },
  {
   "cell_type": "markdown",
   "metadata": {
    "pycharm": {
     "name": "#%% md\n"
    }
   },
   "source": [
    "# 6. Сколько матчей в сезоне закончилось ничьей?"
   ]
  },
  {
   "cell_type": "markdown",
   "metadata": {},
   "source": [
    "Ну тут, в чате написали что не бывает ничиих, поэтому мы смотрим, где home_team_win и home_team_loss равны нулю, то есть ни одна команда не победила. \n",
    "Считаем такие строки с .shape[0], чтобы понять, сколько было таких матчей."
   ]
  },
  {
   "cell_type": "code",
   "execution_count": 8,
   "metadata": {
    "pycharm": {
     "name": "#%%\n"
    }
   },
   "outputs": [
    {
     "name": "stdout",
     "output_type": "stream",
     "text": [
      "Матчей без побед и поражений: 1\n"
     ]
    }
   ],
   "source": [
    "no_outcome_games = regular_season_data[(regular_season_data['home_team_win'] == 0) & (regular_season_data['home_team_loss'] == 0)].shape[0]\n",
    "print(f\"Матчей без побед и поражений: {no_outcome_games}\")"
   ]
  },
  {
   "cell_type": "markdown",
   "metadata": {
    "pycharm": {
     "name": "#%% md\n"
    }
   },
   "source": [
    "# 7. Какая игра была последней в сезоне?"
   ]
  },
  {
   "cell_type": "code",
   "execution_count": 9,
   "metadata": {
    "pycharm": {
     "name": "#%%\n"
    }
   },
   "outputs": [
    {
     "data": {
      "text/plain": [
       "Unnamed: 0                            349\n",
       "attendance                        28730.0\n",
       "away_team                   Miami Marlins\n",
       "away_team_errors                        0\n",
       "away_team_hits                         14\n",
       "away_team_runs                          7\n",
       "date                           2016-10-02\n",
       "field_type                       on grass\n",
       "game_type                        Day Game\n",
       "home_team            Washington Nationals\n",
       "home_team_errors                        0\n",
       "home_team_hits                         10\n",
       "home_team_runs                         10\n",
       "start_time                3:06 p.m. Local\n",
       "venue                      Nationals Park\n",
       "day_of_week                        Sunday\n",
       "temperature                          73.0\n",
       "wind_speed                            2.0\n",
       "wind_direction         from Left to Right\n",
       "sky                              Overcast\n",
       "total_runs                             17\n",
       "game_hours_dec                        3.6\n",
       "season                     regular season\n",
       "home_team_win                           1\n",
       "home_team_loss                          0\n",
       "home_team_outcome                     Win\n",
       "Name: 349, dtype: object"
      ]
     },
     "metadata": {},
     "output_type": "display_data"
    }
   ],
   "source": [
    "last_game = regular_season_data.loc[regular_season_data['date'].idxmax()]\n",
    "display(last_game)"
   ]
  },
  {
   "cell_type": "markdown",
   "metadata": {},
   "source": [
    "По столбцу date берём максимальное значение с .idxmax() - это самая поздняя игра. С помощью .loc выводим всю строку с этой игрой."
   ]
  },
  {
   "cell_type": "markdown",
   "metadata": {
    "pycharm": {
     "name": "#%% md\n"
    }
   },
   "source": [
    "# 8. У какой игры было минимальное количество зрителей?"
   ]
  },
  {
   "cell_type": "code",
   "execution_count": 10,
   "metadata": {
    "pycharm": {
     "name": "#%%\n"
    }
   },
   "outputs": [
    {
     "data": {
      "text/plain": [
       "Unnamed: 0                          2130\n",
       "attendance                        8766.0\n",
       "away_team                 Detroit Tigers\n",
       "away_team_errors                       0\n",
       "away_team_hits                         5\n",
       "away_team_runs                         0\n",
       "date                          2016-05-04\n",
       "field_type                      on grass\n",
       "game_type                     Night Game\n",
       "home_team              Cleveland Indians\n",
       "home_team_errors                       0\n",
       "home_team_hits                         5\n",
       "home_team_runs                         4\n",
       "start_time               6:10 p.m. Local\n",
       "venue                  Progressive Field\n",
       "day_of_week                    Wednesday\n",
       "temperature                         54.0\n",
       "wind_speed                          11.0\n",
       "wind_direction        from Left to Right\n",
       "sky                             Overcast\n",
       "total_runs                             4\n",
       "game_hours_dec                  2.316667\n",
       "season                    regular season\n",
       "home_team_win                          1\n",
       "home_team_loss                         0\n",
       "home_team_outcome                    Win\n",
       "Name: 2130, dtype: object"
      ]
     },
     "metadata": {},
     "output_type": "display_data"
    }
   ],
   "source": [
    "min_attendance_game = regular_season_data.loc[regular_season_data['attendance'].idxmin()]\n",
    "display(min_attendance_game)"
   ]
  },
  {
   "cell_type": "markdown",
   "metadata": {},
   "source": [
    "Находим минимальное значение в столбце attendance через .idxmin(), и выводим всю строку этой игры.\n"
   ]
  },
  {
   "cell_type": "markdown",
   "metadata": {
    "pycharm": {
     "name": "#%% md\n"
    }
   },
   "source": [
    "# 9. Какая игра в сезоне была самая ветренная?"
   ]
  },
  {
   "cell_type": "code",
   "execution_count": 11,
   "metadata": {
    "pycharm": {
     "name": "#%%\n"
    }
   },
   "outputs": [
    {
     "data": {
      "text/plain": [
       "Unnamed: 0                           1655\n",
       "attendance                        41543.0\n",
       "away_team               Milwaukee Brewers\n",
       "away_team_errors                        1\n",
       "away_team_hits                         11\n",
       "away_team_runs                          5\n",
       "date                           2016-06-13\n",
       "field_type                       on grass\n",
       "game_type                      Night Game\n",
       "home_team            San Francisco Giants\n",
       "home_team_errors                        0\n",
       "home_team_hits                         14\n",
       "home_team_runs                         11\n",
       "start_time                7:15 p.m. Local\n",
       "venue                           AT&T Park\n",
       "day_of_week                        Monday\n",
       "temperature                          58.0\n",
       "wind_speed                           25.0\n",
       "wind_direction         out to Centerfield\n",
       "sky                                Cloudy\n",
       "total_runs                             16\n",
       "game_hours_dec                   3.633333\n",
       "season                     regular season\n",
       "home_team_win                           1\n",
       "home_team_loss                          0\n",
       "home_team_outcome                     Win\n",
       "Name: 1655, dtype: object"
      ]
     },
     "metadata": {},
     "output_type": "display_data"
    }
   ],
   "source": [
    "windiest_game = regular_season_data.loc[regular_season_data['wind_speed'].idxmax()]\n",
    "display(windiest_game)"
   ]
  },
  {
   "cell_type": "markdown",
   "metadata": {},
   "source": [
    "По столбцу wind_speed берём индекс максимального значения .idxmax(), и с помощью .loc выводим строку с самой ветренной игрой."
   ]
  },
  {
   "cell_type": "markdown",
   "metadata": {
    "pycharm": {
     "name": "#%% md\n"
    }
   },
   "source": [
    "# 10. В какой игре получили максимальное количество очков?"
   ]
  },
  {
   "cell_type": "code",
   "execution_count": 12,
   "metadata": {
    "pycharm": {
     "name": "#%%\n"
    }
   },
   "outputs": [
    {
     "data": {
      "text/plain": [
       "Unnamed: 0                         1788\n",
       "attendance                      22588.0\n",
       "away_team              Seattle Mariners\n",
       "away_team_errors                      1\n",
       "away_team_hits                       16\n",
       "away_team_runs                       16\n",
       "date                         2016-06-02\n",
       "field_type                     on grass\n",
       "game_type                    Night Game\n",
       "home_team              San Diego Padres\n",
       "home_team_errors                      1\n",
       "home_team_hits                       20\n",
       "home_team_runs                       13\n",
       "start_time              6:10 p.m. Local\n",
       "venue                        Petco Park\n",
       "day_of_week                    Thursday\n",
       "temperature                        76.0\n",
       "wind_speed                         10.0\n",
       "wind_direction        out to Rightfield\n",
       "sky                               Sunny\n",
       "total_runs                           29\n",
       "game_hours_dec                 3.833333\n",
       "season                   regular season\n",
       "home_team_win                         0\n",
       "home_team_loss                        1\n",
       "home_team_outcome                  Loss\n",
       "Name: 1788, dtype: object"
      ]
     },
     "metadata": {},
     "output_type": "display_data"
    }
   ],
   "source": [
    "highest_score_game = regular_season_data.loc[regular_season_data['total_runs'].idxmax()]\n",
    "display(highest_score_game)"
   ]
  },
  {
   "cell_type": "markdown",
   "metadata": {},
   "source": [
    "Ищем максимальное значение в столбце total_runs с .idxmax() и выводим всю строку."
   ]
  },
  {
   "cell_type": "markdown",
   "metadata": {
    "pycharm": {
     "name": "#%% md\n"
    }
   },
   "source": [
    "# 11. Какая игра содержала максимальное количество ошибок домашней команды?"
   ]
  },
  {
   "cell_type": "code",
   "execution_count": 13,
   "metadata": {
    "pycharm": {
     "name": "#%%\n"
    }
   },
   "outputs": [
    {
     "data": {
      "text/plain": [
       "Unnamed: 0                           1178\n",
       "attendance                        22581.0\n",
       "away_team            Arizona Diamondbacks\n",
       "away_team_errors                        1\n",
       "away_team_hits                         11\n",
       "away_team_runs                          8\n",
       "date                           2016-07-27\n",
       "field_type                       on grass\n",
       "game_type                      Night Game\n",
       "home_team               Milwaukee Brewers\n",
       "home_team_errors                        5\n",
       "home_team_hits                          5\n",
       "home_team_runs                          1\n",
       "start_time                7:10 p.m. Local\n",
       "venue                         Miller Park\n",
       "day_of_week                     Wednesday\n",
       "temperature                          77.0\n",
       "wind_speed                            9.0\n",
       "wind_direction          in from Leftfield\n",
       "sky                                Cloudy\n",
       "total_runs                              9\n",
       "game_hours_dec                   2.933333\n",
       "season                     regular season\n",
       "home_team_win                           0\n",
       "home_team_loss                          1\n",
       "home_team_outcome                    Loss\n",
       "Name: 1178, dtype: object"
      ]
     },
     "metadata": {},
     "output_type": "display_data"
    }
   ],
   "source": [
    "most_errors_game = regular_season_data.loc[regular_season_data['home_team_errors'].idxmax()]\n",
    "display(most_errors_game)"
   ]
  },
  {
   "cell_type": "markdown",
   "metadata": {},
   "source": [
    "В home_team_errors находим максимальное значение через .idxmax(), и выводим строку(.loc), чтобы увидеть, когда у домашней команды было больше всего ошибок."
   ]
  },
  {
   "cell_type": "markdown",
   "metadata": {
    "pycharm": {
     "name": "#%% md\n"
    }
   },
   "source": [
    "# 12. В какой игре было максимальное количество хитов?"
   ]
  },
  {
   "cell_type": "code",
   "execution_count": 14,
   "metadata": {
    "pycharm": {
     "name": "#%%\n"
    }
   },
   "outputs": [
    {
     "data": {
      "text/plain": [
       "Unnamed: 0                        1423\n",
       "attendance                     36137.0\n",
       "away_team                 Chicago Cubs\n",
       "away_team_errors                     0\n",
       "away_team_hits                      11\n",
       "away_team_runs                       3\n",
       "date                        2016-07-03\n",
       "field_type                    on grass\n",
       "game_type                     Day Game\n",
       "home_team                New York Mets\n",
       "home_team_errors                     1\n",
       "home_team_hits                      22\n",
       "home_team_runs                      14\n",
       "start_time             1:12 p.m. Local\n",
       "venue                       Citi Field\n",
       "day_of_week                     Sunday\n",
       "temperature                       80.0\n",
       "wind_speed                         3.0\n",
       "wind_direction        out to Leftfield\n",
       "sky                             Cloudy\n",
       "total_runs                          17\n",
       "game_hours_dec                3.283333\n",
       "season                  regular season\n",
       "home_team_win                        1\n",
       "home_team_loss                       0\n",
       "home_team_outcome                  Win\n",
       "Name: 1423, dtype: object"
      ]
     },
     "metadata": {},
     "output_type": "display_data"
    }
   ],
   "source": [
    "most_hits_game = regular_season_data.loc[regular_season_data['home_team_hits'].idxmax()]\n",
    "display(most_hits_game)"
   ]
  },
  {
   "cell_type": "markdown",
   "metadata": {},
   "source": [
    "По столбцу home_team_hits ищем максимальное значение через .idxmax(), и выводим всю строку этой игры"
   ]
  },
  {
   "cell_type": "markdown",
   "metadata": {
    "pycharm": {
     "name": "#%% md\n"
    }
   },
   "source": [
    "# 13. Выведите количество игр которая сыграла каждая команда в данном сезоне?"
   ]
  },
  {
   "cell_type": "code",
   "execution_count": 15,
   "metadata": {
    "pycharm": {
     "name": "#%%\n"
    }
   },
   "outputs": [
    {
     "data": {
      "text/plain": [
       "Arizona Diamondbacks             162\n",
       "Atlanta Braves                   161\n",
       "Baltimore Orioles                162\n",
       "Boston Red Sox                   162\n",
       "Chicago Cubs                     162\n",
       "Chicago White Sox                162\n",
       "Cincinnati Reds                  162\n",
       "Cleveland Indians                161\n",
       "Colorado Rockies                 162\n",
       "Detroit Tigers                   161\n",
       "Houston Astros                   162\n",
       "Kansas City Royals               162\n",
       "Los Angeles Angels of Anaheim    162\n",
       "Los Angeles Dodgers              162\n",
       "Miami Marlins                    161\n",
       "Milwaukee Brewers                162\n",
       "Minnesota Twins                  162\n",
       "New York Mets                    162\n",
       "New York Yankees                 162\n",
       "Oakland Athletics                162\n",
       "Philadelphia Phillies            162\n",
       "Pittsburgh Pirates               162\n",
       "San Diego Padres                 162\n",
       "San Francisco Giants             162\n",
       "Seattle Mariners                 162\n",
       "St. Louis Cardinals              162\n",
       "Tampa Bay Rays                   162\n",
       "Texas Rangers                    162\n",
       "Toronto Blue Jays                162\n",
       "Washington Nationals             162\n",
       "Name: count, dtype: int64"
      ]
     },
     "metadata": {},
     "output_type": "display_data"
    }
   ],
   "source": [
    "team_games_count = regular_season_data['home_team'].value_counts() + regular_season_data['away_team'].value_counts()\n",
    "team_games_count.fillna(0, inplace=True)  # вдруг были команды с неравным количеством домашних и выездных игр\n",
    "display(team_games_count)"
   ]
  },
  {
   "cell_type": "markdown",
   "metadata": {},
   "source": [
    "Считаем, сколько игр сыграла каждая команда — домашние (home_team) и выездные (away_team) игры. Складываем их"
   ]
  },
  {
   "cell_type": "markdown",
   "metadata": {
    "pycharm": {
     "name": "#%% md\n"
    }
   },
   "source": [
    "# 14. Какая команда выиграла наибольшое количество матчей в сезоне? (Будьте внимательны с типом матча в сезоне - season)."
   ]
  },
  {
   "cell_type": "code",
   "execution_count": 16,
   "metadata": {
    "pycharm": {
     "name": "#%%\n"
    }
   },
   "outputs": [
    {
     "data": {
      "text/plain": [
       "'Chicago Cubs'"
      ]
     },
     "metadata": {},
     "output_type": "display_data"
    }
   ],
   "source": [
    "team_wins = regular_season_data[regular_season_data['home_team_win'] == 1]['home_team'].value_counts() + \\\n",
    "            regular_season_data[regular_season_data['home_team_win'] == 0]['away_team'].value_counts()\n",
    "display(team_wins.idxmax())"
   ]
  },
  {
   "cell_type": "markdown",
   "metadata": {},
   "source": [
    "Этот код считает победы каждой команды дома и на выезде: .value_counts() считает, сколько раз каждая команда победила дома и в гостях, складывая результаты. .idxmax() выводит команду с наибольшим количеством побед."
   ]
  },
  {
   "cell_type": "markdown",
   "metadata": {
    "pycharm": {
     "name": "#%% md\n"
    }
   },
   "source": [
    "# 15. Какая команда выиграла наибольшее количество домашних матчей в сезоне?"
   ]
  },
  {
   "cell_type": "code",
   "execution_count": 17,
   "metadata": {
    "pycharm": {
     "name": "#%%\n"
    }
   },
   "outputs": [
    {
     "data": {
      "text/plain": [
       "'Chicago Cubs'"
      ]
     },
     "metadata": {},
     "output_type": "display_data"
    }
   ],
   "source": [
    "home_wins = regular_season_data[regular_season_data['home_team_win'] == 1]['home_team'].value_counts()\n",
    "display(home_wins.idxmax())"
   ]
  },
  {
   "cell_type": "markdown",
   "metadata": {},
   "source": [
    "Считаем только домашние победы команд по столбцу home_team_win"
   ]
  },
  {
   "cell_type": "markdown",
   "metadata": {
    "pycharm": {
     "name": "#%% md\n"
    }
   },
   "source": [
    "# 16. Какая команда выиграла наибольшее количество гостевых матчей в сезоне?"
   ]
  },
  {
   "cell_type": "code",
   "execution_count": 18,
   "metadata": {
    "pycharm": {
     "name": "#%%\n"
    }
   },
   "outputs": [
    {
     "data": {
      "text/plain": [
       "'St. Louis Cardinals'"
      ]
     },
     "metadata": {},
     "output_type": "display_data"
    }
   ],
   "source": [
    "away_wins = regular_season_data[regular_season_data['home_team_win'] == 0]['away_team'].value_counts()\n",
    "display(away_wins.idxmax())"
   ]
  },
  {
   "cell_type": "markdown",
   "metadata": {},
   "source": [
    "Считаем победы команд на выезде по home_team_win == 0, и находим команду с наибольшим числом побед на выезде."
   ]
  },
  {
   "cell_type": "markdown",
   "metadata": {
    "pycharm": {
     "name": "#%% md\n"
    }
   },
   "source": [
    "# 17. Какая команда проиграла наибольшее количество матчей в сезоне?"
   ]
  },
  {
   "cell_type": "code",
   "execution_count": 19,
   "metadata": {
    "pycharm": {
     "name": "#%%\n"
    }
   },
   "outputs": [
    {
     "data": {
      "text/plain": [
       "'Minnesota Twins'"
      ]
     },
     "metadata": {},
     "output_type": "display_data"
    }
   ],
   "source": [
    "team_losses = regular_season_data[regular_season_data['home_team_loss'] == 1]['home_team'].value_counts() + \\\n",
    "              regular_season_data[regular_season_data['home_team_loss'] == 0]['away_team'].value_counts()\n",
    "display(team_losses.idxmax())"
   ]
  },
  {
   "cell_type": "markdown",
   "metadata": {},
   "source": [
    "Подсчитываем проигрыши команд, суммируя домашние и выездные проигрыши, чтобы понять, у кого больше всего поражений за сезон. \n",
    "Логита таже что и в вопросе выше."
   ]
  },
  {
   "cell_type": "markdown",
   "metadata": {
    "pycharm": {
     "name": "#%% md\n"
    }
   },
   "source": [
    "# 18. Зависит ли выигрыш от количества посетителей матча? (https://pandas.pydata.org/docs/reference/api/pandas.DataFrame.cov.html)"
   ]
  },
  {
   "cell_type": "code",
   "execution_count": 20,
   "metadata": {
    "pycharm": {
     "name": "#%%\n"
    }
   },
   "outputs": [
    {
     "name": "stdout",
     "output_type": "stream",
     "text": [
      "Кореляция между посещаемостью и победой домашней команды: 0.04970265570404589\n"
     ]
    }
   ],
   "source": [
    "attendance_win_corr = regular_season_data['attendance'].corr(regular_season_data['home_team_win'])\n",
    "print(f\"Кореляция между посещаемостью и победой домашней команды: {attendance_win_corr}\")"
   ]
  },
  {
   "cell_type": "markdown",
   "metadata": {},
   "source": [
    "Рассчитываем корреляцию между attendance и home_team_win. Это показывает, есть ли зависимость между числом зрителей и победами домашней команды."
   ]
  },
  {
   "cell_type": "markdown",
   "metadata": {
    "pycharm": {
     "name": "#%% md\n"
    }
   },
   "source": [
    "# 19. Правда ли что большинство проигрышных домашних матчей приходятся на Субботу и Воскресенье?"
   ]
  },
  {
   "cell_type": "code",
   "execution_count": 21,
   "metadata": {
    "pycharm": {
     "name": "#%%\n"
    }
   },
   "outputs": [
    {
     "name": "stdout",
     "output_type": "stream",
     "text": [
      "Доля проигрышных матчей на выходных: 0.32\n"
     ]
    }
   ],
   "source": [
    "weekend_losses = regular_season_data[(regular_season_data['home_team_outcome'] == 'Loss') &\n",
    "                                     (regular_season_data['day_of_week'].isin(['Saturday', 'Sunday']))].shape[0]\n",
    "total_losses = regular_season_data[regular_season_data['home_team_outcome'] == 'Loss'].shape[0]\n",
    "weekend_loss_ratio = weekend_losses / total_losses\n",
    "print(f\"Доля проигрышных матчей на выходных: {weekend_loss_ratio:.2f}\")"
   ]
  },
  {
   "cell_type": "markdown",
   "metadata": {},
   "source": [
    "Мы фильтруем данные по домашним поражениям (home_team_outcome == 'Loss'),  и матч прошёл в субботу или воскресенье .shape[0] подсчитывает такие строки.\n",
    "Затем делим их на общее число проигрышей, чтобы получить долю проигрышей на выходных."
   ]
  },
  {
   "cell_type": "markdown",
   "metadata": {
    "pycharm": {
     "name": "#%% md\n"
    }
   },
   "source": [
    "# 20. Правда ли что наибольшее количество ранов происходит в холодную погоду? (Холодной погодой считается погода ниже 0 градусов)"
   ]
  },
  {
   "cell_type": "code",
   "execution_count": 22,
   "metadata": {
    "pycharm": {
     "name": "#%%\n"
    }
   },
   "outputs": [
    {
     "name": "stdout",
     "output_type": "stream",
     "text": [
      "Раны в холодную погоду: 12, раны в теплую погоду: 21732\n"
     ]
    }
   ],
   "source": [
    "cold_weather_runs = regular_season_data[regular_season_data['temperature'] < 32]['total_runs'].sum()\n",
    "warm_weather_runs = regular_season_data[regular_season_data['temperature'] >= 32]['total_runs'].sum()\n",
    "print(f\"Раны в холодную погоду: {cold_weather_runs}, раны в теплую погоду: {warm_weather_runs}\")"
   ]
  },
  {
   "cell_type": "markdown",
   "metadata": {},
   "source": [
    "Мы разделяем данные по температуре на холодную (меньше 32 градусов) и тёплую (32 градуса и выше), затем суммируем количество очков (total_runs) для каждой группы. Это помогает понять, в какой погоде набиралось больше очков. Я не переводил в градусы цельсия, проще просто посмотреть 0 град цельсия \n",
    "это сколько фарингейтов."
   ]
  }
 ],
 "metadata": {
  "kernelspec": {
   "display_name": "Python 3 (ipykernel)",
   "language": "python",
   "name": "python3"
  },
  "language_info": {
   "codemirror_mode": {
    "name": "ipython",
    "version": 3
   },
   "file_extension": ".py",
   "mimetype": "text/x-python",
   "name": "python",
   "nbconvert_exporter": "python",
   "pygments_lexer": "ipython3",
   "version": "3.12.4"
  }
 },
 "nbformat": 4,
 "nbformat_minor": 4
}
